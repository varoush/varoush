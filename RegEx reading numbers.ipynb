{
 "cells": [
  {
   "cell_type": "code",
   "execution_count": 1,
   "id": "92cef0fc",
   "metadata": {},
   "outputs": [
    {
     "ename": "SyntaxError",
     "evalue": "incomplete input (1542941291.py, line 5)",
     "output_type": "error",
     "traceback": [
      "\u001b[0;36m  Input \u001b[0;32mIn [1]\u001b[0;36m\u001b[0m\n\u001b[0;31m    file_r.close(\u001b[0m\n\u001b[0m                 ^\u001b[0m\n\u001b[0;31mSyntaxError\u001b[0m\u001b[0;31m:\u001b[0m incomplete input\n"
     ]
    }
   ],
   "source": [
    "#importing Regex lib\n",
    "import re \n",
    "#opening and reading data\n",
    "file_r = open(\"regex_sum_1536468.txt\", \"r\")  \n",
    "data = file_r.read()\n",
    "file_r.close()"
   ]
  },
  {
   "cell_type": "code",
   "execution_count": 18,
   "id": "f45b7ead",
   "metadata": {
    "scrolled": true
   },
   "outputs": [
    {
     "name": "stdout",
     "output_type": "stream",
     "text": [
      "452435\n"
     ]
    }
   ],
   "source": [
    "#findall to list and summing up the integers in the list\n",
    "print( sum(int(x) for x in re.findall('[0-9]+', data)))"
   ]
  },
  {
   "cell_type": "code",
   "execution_count": null,
   "id": "7ee19807",
   "metadata": {},
   "outputs": [],
   "source": []
  }
 ],
 "metadata": {
  "kernelspec": {
   "display_name": "Python 3 (ipykernel)",
   "language": "python",
   "name": "python3"
  },
  "language_info": {
   "codemirror_mode": {
    "name": "ipython",
    "version": 3
   },
   "file_extension": ".py",
   "mimetype": "text/x-python",
   "name": "python",
   "nbconvert_exporter": "python",
   "pygments_lexer": "ipython3",
   "version": "3.10.5"
  }
 },
 "nbformat": 4,
 "nbformat_minor": 5
}
